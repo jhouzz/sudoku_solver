{
 "cells": [
  {
   "cell_type": "markdown",
   "id": "83f016b8",
   "metadata": {},
   "source": [
    "### Import\n",
    "\n",
    "Import classes and functions from each of the scripts."
   ]
  },
  {
   "cell_type": "code",
   "execution_count": 45,
   "id": "f66d8945",
   "metadata": {},
   "outputs": [],
   "source": [
    "from sudoku import SudokuSolver, create_sudoku\n",
    "from sudoku_tests import SudokuTests, test1"
   ]
  },
  {
   "cell_type": "markdown",
   "id": "d9d4c954",
   "metadata": {},
   "source": [
    "First puzzle to solve."
   ]
  },
  {
   "cell_type": "code",
   "execution_count": 15,
   "id": "96b277a1",
   "metadata": {},
   "outputs": [
    {
     "data": {
      "text/plain": [
       "[[0, 0, 0, 0, 0, 8, 3, 0, 0],\n",
       " [0, 0, 0, 0, 2, 4, 0, 9, 0],\n",
       " [0, 0, 4, 0, 7, 0, 0, 0, 6],\n",
       " [0, 0, 0, 0, 0, 3, 0, 7, 9],\n",
       " [7, 5, 0, 0, 0, 0, 0, 8, 4],\n",
       " [9, 2, 0, 5, 0, 0, 0, 0, 0],\n",
       " [4, 0, 0, 0, 9, 0, 1, 0, 0],\n",
       " [0, 3, 0, 4, 6, 0, 0, 0, 0],\n",
       " [0, 0, 5, 8, 0, 0, 0, 0, 0]]"
      ]
     },
     "execution_count": 15,
     "metadata": {},
     "output_type": "execute_result"
    }
   ],
   "source": [
    "puzzle = create_sudoku()\n",
    "puzzle"
   ]
  },
  {
   "cell_type": "markdown",
   "id": "72f81654",
   "metadata": {},
   "source": [
    "You can read into how to use the two classes:\n",
    "\n",
    "* `SudokuTests`\n",
    "\n",
    "\n",
    "* `SudokuSover`"
   ]
  },
  {
   "cell_type": "code",
   "execution_count": 16,
   "id": "550fb20b",
   "metadata": {},
   "outputs": [],
   "source": [
    "#SudokuTests?\n",
    "#SudokuSolver?"
   ]
  },
  {
   "cell_type": "markdown",
   "id": "e57efdcf",
   "metadata": {},
   "source": [
    "### Recommended Flow\n",
    "\n",
    "1. Check the puzzle you want to solve is valid.\n",
    "    * Instantiate Tests\n",
    "    * `check_valid` Method\n",
    "2. Instantiate Solver\n",
    "3. `solve` method\n",
    "4. `print_container` method to see solution.\n",
    "5. `print_original_container` Method to see original puzzle."
   ]
  },
  {
   "cell_type": "code",
   "execution_count": 17,
   "id": "00f11fd7",
   "metadata": {},
   "outputs": [
    {
     "data": {
      "text/plain": [
       "'Your Puzzle Looks Valid.  Try to Solve It!'"
      ]
     },
     "execution_count": 17,
     "metadata": {},
     "output_type": "execute_result"
    }
   ],
   "source": [
    "# Step 1\n",
    "test = SudokuTests(puzzle)\n",
    "test.check_valid()"
   ]
  },
  {
   "cell_type": "code",
   "execution_count": 19,
   "id": "8d28078b",
   "metadata": {},
   "outputs": [
    {
     "name": "stdout",
     "output_type": "stream",
     "text": [
      "\n",
      "Original Puzzle:\n",
      "\n",
      "\n",
      "0 0 0 | 0 0 8 | 3 0 0 \n",
      "\n",
      "0 0 0 | 0 2 4 | 0 9 0 \n",
      "\n",
      "0 0 4 | 0 7 0 | 0 0 6 \n",
      "_____________________\n",
      "\n",
      "0 0 0 | 0 0 3 | 0 7 9 \n",
      "\n",
      "7 5 0 | 0 0 0 | 0 8 4 \n",
      "\n",
      "9 2 0 | 5 0 0 | 0 0 0 \n",
      "_____________________\n",
      "\n",
      "4 0 0 | 0 9 0 | 1 0 0 \n",
      "\n",
      "0 3 0 | 4 6 0 | 0 0 0 \n",
      "\n",
      "0 0 5 | 8 0 0 | 0 0 0 \n",
      "\n"
     ]
    }
   ],
   "source": [
    "# Step 2\n",
    "sudoku = SudokuSolver(puzzle)\n",
    "sudoku.print_container()"
   ]
  },
  {
   "cell_type": "code",
   "execution_count": 20,
   "id": "25bc7328",
   "metadata": {},
   "outputs": [
    {
     "name": "stdout",
     "output_type": "stream",
     "text": [
      "\n",
      "Solving puzzle\n",
      "There are 55 moves I have to make!\n",
      "To see solution use the `print_container()` method\n",
      "To see the original use the `print_original_container()` method\n"
     ]
    }
   ],
   "source": [
    "# Step 3\n",
    "sudoku.solve()"
   ]
  },
  {
   "cell_type": "code",
   "execution_count": 21,
   "id": "acc8c70d",
   "metadata": {},
   "outputs": [
    {
     "name": "stdout",
     "output_type": "stream",
     "text": [
      "\n",
      "Solution Puzzle:\n",
      "\n",
      "\n",
      "2 7 9 | 6 5 8 | 3 4 1 \n",
      "\n",
      "3 8 6 | 1 2 4 | 7 9 5 \n",
      "\n",
      "5 1 4 | 3 7 9 | 8 2 6 \n",
      "_____________________\n",
      "\n",
      "6 4 1 | 2 8 3 | 5 7 9 \n",
      "\n",
      "7 5 3 | 9 1 6 | 2 8 4 \n",
      "\n",
      "9 2 8 | 5 4 7 | 6 1 3 \n",
      "_____________________\n",
      "\n",
      "4 6 2 | 7 9 5 | 1 3 8 \n",
      "\n",
      "8 3 7 | 4 6 1 | 9 5 2 \n",
      "\n",
      "1 9 5 | 8 3 2 | 4 6 7 \n",
      "\n"
     ]
    }
   ],
   "source": [
    "# Step 4\n",
    "sudoku.print_container()"
   ]
  },
  {
   "cell_type": "code",
   "execution_count": 22,
   "id": "75882ac8",
   "metadata": {},
   "outputs": [
    {
     "name": "stdout",
     "output_type": "stream",
     "text": [
      "\n",
      "Original Puzzle:\n",
      "\n",
      "\n",
      "0 0 0 | 0 0 8 | 3 0 0 \n",
      "\n",
      "0 0 0 | 0 2 4 | 0 9 0 \n",
      "\n",
      "0 0 4 | 0 7 0 | 0 0 6 \n",
      "_____________________\n",
      "\n",
      "0 0 0 | 0 0 3 | 0 7 9 \n",
      "\n",
      "7 5 0 | 0 0 0 | 0 8 4 \n",
      "\n",
      "9 2 0 | 5 0 0 | 0 0 0 \n",
      "_____________________\n",
      "\n",
      "4 0 0 | 0 9 0 | 1 0 0 \n",
      "\n",
      "0 3 0 | 4 6 0 | 0 0 0 \n",
      "\n",
      "0 0 5 | 8 0 0 | 0 0 0 \n",
      "\n"
     ]
    }
   ],
   "source": [
    "# Step 5\n",
    "sudoku.print_original_container()"
   ]
  },
  {
   "cell_type": "markdown",
   "id": "a8d24015",
   "metadata": {},
   "source": [
    "### Tests\n",
    "\n",
    "I put together a couple of tests to see what happens in certain cases:\n",
    "\n",
    "1. Make sure we get the correct answer with a valid puzzle.\n",
    "2. Edge cases for invalid puzzles\n",
    "    * A number shows up 2 times in the puzzle in an invalid way.\n",
    "    * Puzzle is the wrong number of dimensions.\n",
    "    * Puzzle is empty\n",
    "3. Edge case not considered - impossible puzzle (currently no time out - just stuck in an infinite loop)\n",
    "    * Possible solution is to put a timer and have exit if passes timer without solution."
   ]
  },
  {
   "cell_type": "code",
   "execution_count": null,
   "id": "48fe053b",
   "metadata": {},
   "outputs": [],
   "source": [
    "puzzle_two, puzzle_two_sol = test1()\n",
    "\n",
    "test = SudokuTests(puzzle_two)\n",
    "test.check_valid()"
   ]
  },
  {
   "cell_type": "code",
   "execution_count": 27,
   "id": "8c48f2f6",
   "metadata": {},
   "outputs": [
    {
     "name": "stdout",
     "output_type": "stream",
     "text": [
      "\n",
      "Original Puzzle:\n",
      "\n",
      "\n",
      "5 1 0 | 9 7 0 | 0 0 8 \n",
      "\n",
      "4 0 3 | 0 0 8 | 1 0 0 \n",
      "\n",
      "0 0 8 | 0 0 5 | 0 4 6 \n",
      "_____________________\n",
      "\n",
      "3 8 0 | 7 0 1 | 0 6 2 \n",
      "\n",
      "0 0 7 | 0 2 0 | 5 0 0 \n",
      "\n",
      "2 9 0 | 4 0 6 | 0 7 3 \n",
      "_____________________\n",
      "\n",
      "1 3 0 | 6 0 0 | 9 0 0 \n",
      "\n",
      "0 0 4 | 3 0 0 | 6 0 7 \n",
      "\n",
      "7 0 0 | 0 8 2 | 0 1 4 \n",
      "\n"
     ]
    }
   ],
   "source": [
    "sudoku = SudokuSolver(puzzle_two)\n",
    "sudoku.print_container()"
   ]
  },
  {
   "cell_type": "code",
   "execution_count": 28,
   "id": "f7ad2dcb",
   "metadata": {},
   "outputs": [
    {
     "name": "stdout",
     "output_type": "stream",
     "text": [
      "\n",
      "Solving puzzle\n",
      "There are 40 moves I have to make!\n",
      "To see solution use the `print_container()` method\n",
      "To see the original use the `print_original_container()` method\n"
     ]
    }
   ],
   "source": [
    "sudoku.solve()"
   ]
  },
  {
   "cell_type": "code",
   "execution_count": 29,
   "id": "c350b212",
   "metadata": {},
   "outputs": [
    {
     "name": "stdout",
     "output_type": "stream",
     "text": [
      "\n",
      "Solution Puzzle:\n",
      "\n",
      "\n",
      "5 1 6 | 9 7 4 | 2 3 8 \n",
      "\n",
      "4 7 3 | 2 6 8 | 1 5 9 \n",
      "\n",
      "9 2 8 | 1 3 5 | 7 4 6 \n",
      "_____________________\n",
      "\n",
      "3 8 5 | 7 9 1 | 4 6 2 \n",
      "\n",
      "6 4 7 | 8 2 3 | 5 9 1 \n",
      "\n",
      "2 9 1 | 4 5 6 | 8 7 3 \n",
      "_____________________\n",
      "\n",
      "1 3 2 | 6 4 7 | 9 8 5 \n",
      "\n",
      "8 5 4 | 3 1 9 | 6 2 7 \n",
      "\n",
      "7 6 9 | 5 8 2 | 3 1 4 \n",
      "\n"
     ]
    }
   ],
   "source": [
    "sudoku.print_container()"
   ]
  },
  {
   "cell_type": "code",
   "execution_count": 30,
   "id": "1d10f647",
   "metadata": {},
   "outputs": [
    {
     "data": {
      "text/plain": [
       "[[5, 1, 6, 9, 7, 4, 2, 3, 8],\n",
       " [4, 7, 3, 2, 6, 8, 1, 5, 9],\n",
       " [9, 2, 8, 1, 3, 5, 7, 4, 6],\n",
       " [3, 8, 5, 7, 9, 1, 4, 6, 2],\n",
       " [6, 4, 7, 8, 2, 3, 5, 9, 1],\n",
       " [2, 9, 1, 4, 5, 6, 8, 7, 3],\n",
       " [1, 3, 2, 6, 4, 7, 9, 8, 5],\n",
       " [8, 5, 4, 3, 1, 9, 6, 2, 7],\n",
       " [7, 6, 9, 5, 8, 2, 3, 1, 4]]"
      ]
     },
     "execution_count": 30,
     "metadata": {},
     "output_type": "execute_result"
    }
   ],
   "source": [
    "sudoku.container"
   ]
  },
  {
   "cell_type": "code",
   "execution_count": 31,
   "id": "26d95308",
   "metadata": {},
   "outputs": [],
   "source": [
    "assert sudoku.container == puzzle_two_sol"
   ]
  },
  {
   "cell_type": "code",
   "execution_count": 34,
   "id": "32682ee9",
   "metadata": {},
   "outputs": [],
   "source": [
    "empty_puzzle = [[0, 0, 0, 0, 0, 0, 0, 0, 0],\n",
    "                [0, 0, 0, 0, 0, 0, 0, 0, 0],\n",
    "                [0, 0, 0, 0, 0, 0, 0, 0, 0],\n",
    "                [0, 0, 0, 0, 0, 0, 0, 0, 0],\n",
    "                [0, 0, 0, 0, 0, 0, 0, 0, 0],\n",
    "                [0, 0, 0, 0, 0, 0, 0, 0, 0],\n",
    "                [0, 0, 0, 0, 0, 0, 0, 0, 0],\n",
    "                [0, 0, 0, 0, 0, 0, 0, 0, 0],\n",
    "                [0, 0, 0, 0, 0, 0, 0, 0, 0]]"
   ]
  },
  {
   "cell_type": "code",
   "execution_count": 35,
   "id": "c9d901f4",
   "metadata": {},
   "outputs": [
    {
     "data": {
      "text/plain": [
       "'Cannot solve. Multiple possible solutions'"
      ]
     },
     "execution_count": 35,
     "metadata": {},
     "output_type": "execute_result"
    }
   ],
   "source": [
    "test = SudokuTests(empty_puzzle)\n",
    "test.check_valid()"
   ]
  },
  {
   "cell_type": "code",
   "execution_count": 43,
   "id": "3f3304c4",
   "metadata": {},
   "outputs": [],
   "source": [
    "invalid_dims_puzzle =  [[0, 0, 0, 0, 0, 0, 0, 0],\n",
    "                        [0, 0, 0, 0, 0, 0, 0, 0],\n",
    "                        [0, 0, 0, 0, 0, 0, 0, 0],\n",
    "                        [0, 0, 0, 0, 0, 0, 0, 0],\n",
    "                        [0, 0, 0, 0, 0, 0, 0, 0],\n",
    "                        [0, 0, 0, 0, 0, 0, 0, 0],\n",
    "                        [0, 0, 0, 0, 0, 0, 0, 0],\n",
    "                        [0, 0, 0, 0, 0, 0, 0, 6]]"
   ]
  },
  {
   "cell_type": "code",
   "execution_count": 46,
   "id": "6b2485a4",
   "metadata": {},
   "outputs": [
    {
     "data": {
      "text/plain": [
       "'Cannot solve. Input Has Invalid Dimensions'"
      ]
     },
     "execution_count": 46,
     "metadata": {},
     "output_type": "execute_result"
    }
   ],
   "source": [
    "test = SudokuTests(invalid_dims_puzzle)\n",
    "test.check_valid()"
   ]
  },
  {
   "cell_type": "code",
   "execution_count": 49,
   "id": "48c8ef54",
   "metadata": {},
   "outputs": [],
   "source": [
    "same_number_puzzle = [[6, 0, 0, 0, 0, 0, 0, 0, 6],\n",
    "                      [0, 0, 0, 0, 0, 0, 0, 0, 0],\n",
    "                      [0, 0, 0, 0, 0, 0, 0, 0, 0],\n",
    "                      [0, 0, 0, 0, 0, 0, 0, 0, 0],\n",
    "                      [0, 0, 0, 0, 0, 0, 0, 0, 0],\n",
    "                      [0, 0, 0, 0, 0, 0, 0, 0, 0],\n",
    "                      [0, 0, 0, 0, 0, 0, 0, 0, 0],\n",
    "                      [0, 0, 0, 0, 0, 0, 0, 0, 0],\n",
    "                      [0, 0, 0, 0, 0, 0, 0, 0, 0]]"
   ]
  },
  {
   "cell_type": "code",
   "execution_count": 50,
   "id": "d056b399",
   "metadata": {},
   "outputs": [
    {
     "data": {
      "text/plain": [
       "'Cannot solve. Start Board Has Impossibility.'"
      ]
     },
     "execution_count": 50,
     "metadata": {},
     "output_type": "execute_result"
    }
   ],
   "source": [
    "test = SudokuTests(same_number_puzzle)\n",
    "test.check_valid()"
   ]
  },
  {
   "cell_type": "code",
   "execution_count": null,
   "id": "fe475337",
   "metadata": {},
   "outputs": [],
   "source": []
  }
 ],
 "metadata": {
  "kernelspec": {
   "display_name": "Python 3",
   "language": "python",
   "name": "python3"
  },
  "language_info": {
   "codemirror_mode": {
    "name": "ipython",
    "version": 3
   },
   "file_extension": ".py",
   "mimetype": "text/x-python",
   "name": "python",
   "nbconvert_exporter": "python",
   "pygments_lexer": "ipython3",
   "version": "3.6.13"
  }
 },
 "nbformat": 4,
 "nbformat_minor": 5
}
